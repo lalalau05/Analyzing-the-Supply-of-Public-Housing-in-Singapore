{
 "cells": [
  {
   "cell_type": "markdown",
   "id": "d72114fe",
   "metadata": {},
   "source": [
    "# Analyzing the Supply of Public Housing in Singapore"
   ]
  },
  {
   "cell_type": "markdown",
   "id": "80a16681",
   "metadata": {},
   "source": [
    "Public housing, or what's more intimately known as HDB flats, in Singapore are meant to be priced affordably for the masses to promote homeownership. However, recent __[hoo-ha](https://stackedhomes.com/editorial/record-breaking-1-4-million-hdb-costs-too-much-the-alternatives-may-not-be-any-better/#gs.omfpg5)__ over cross-million HDB flats may indicate otherwise (or simply a lack of better alternatives). \n",
    "\n",
    "Yet this is not the only debate circulating the hot topic of public housing in Singapore. Recently, there has been much buzz over __[the possibility of allowing younger singles to buy and own a HDB](https://mothership.sg/2022/03/single-singaporean-hdb-28-pritam-singh/)__. In response, the Government reiterated their commitment to monitor changes in the public's housing preferences and aspirations over time, and across different life stages of families and individuals. \n",
    "\n",
    "In the latest __[HDB Sample Household Survey](https://www.straitstimes.com/singapore/singapore-resident-population-in-hdb-flats-falls-to-304m-with-smaller-households-spread)__, it was found that the number of Singapore residents living in Housing Board flats has dipped for the first time since 2003, with household sizes shrinking even as the number of HDB households continued to climb. With limited land and resources, how can the Government better prioritise and allocate within these constraints?\n",
    "\n",
    "In this notebook, we will explore a sample of data from the __[Housing Development Board](data.gov.sg/dataset/age-of-hdb-population-by-ethnic-group-and-flat-type-in-age-groups)__ and the __[Ministry of Trade and Industry](data.gov.sg/dataset/resident-population-by-ethnicity-gender-and-age-group)__.\n",
    "\n",
    "We will try to answer the following questions about the supply and demand of public housing in Singapore: \n",
    "1. How big is the HDB resident population in Singapore (across the different flat types and age groups)?\n",
    "2. How big is the Singapore resident population? \n",
    "3. Is there a trend between the HDB resident and the Singapore resident population across the years? "
   ]
  },
  {
   "cell_type": "markdown",
   "id": "dc4bcdec",
   "metadata": {},
   "source": [
    "<div class=\"alert alert-block alert-info\">\n",
    "<b>Note: </b> Due to dataset constraints, only data from the years (2008, 2013 and 2018) were trended. Only Singapore Residents (Singapore Citizens and Permanent Residents) were included in the dataset as they are the beneficiaries of public housing in Singapore. \n",
    "</div>"
   ]
  },
  {
   "cell_type": "markdown",
   "id": "dd96613a",
   "metadata": {},
   "source": [
    "Let's start by importing all relevant packages and datasets first."
   ]
  },
  {
   "cell_type": "code",
   "execution_count": 29,
   "id": "f172395e",
   "metadata": {},
   "outputs": [],
   "source": [
    "import pandas as pd\n",
    "import matplotlib\n",
    "import matplotlib.pyplot as plt\n",
    "import seaborn as sns\n",
    "\n",
    "sns.set()\n",
    "%matplotlib inline"
   ]
  },
  {
   "cell_type": "code",
   "execution_count": 30,
   "id": "794f4e4d",
   "metadata": {
    "scrolled": false
   },
   "outputs": [
    {
     "data": {
      "text/html": [
       "<div>\n",
       "<style scoped>\n",
       "    .dataframe tbody tr th:only-of-type {\n",
       "        vertical-align: middle;\n",
       "    }\n",
       "\n",
       "    .dataframe tbody tr th {\n",
       "        vertical-align: top;\n",
       "    }\n",
       "\n",
       "    .dataframe thead th {\n",
       "        text-align: right;\n",
       "    }\n",
       "</style>\n",
       "<table border=\"1\" class=\"dataframe\">\n",
       "  <thead>\n",
       "    <tr style=\"text-align: right;\">\n",
       "      <th></th>\n",
       "      <th>shs_year</th>\n",
       "      <th>flat_type</th>\n",
       "      <th>age_group</th>\n",
       "      <th>percentage</th>\n",
       "    </tr>\n",
       "  </thead>\n",
       "  <tbody>\n",
       "    <tr>\n",
       "      <th>0</th>\n",
       "      <td>2008</td>\n",
       "      <td>1-room</td>\n",
       "      <td>Below 15</td>\n",
       "      <td>4.8</td>\n",
       "    </tr>\n",
       "    <tr>\n",
       "      <th>1</th>\n",
       "      <td>2008</td>\n",
       "      <td>1-room</td>\n",
       "      <td>15-64</td>\n",
       "      <td>56.6</td>\n",
       "    </tr>\n",
       "    <tr>\n",
       "      <th>2</th>\n",
       "      <td>2008</td>\n",
       "      <td>1-room</td>\n",
       "      <td>65 &amp; above</td>\n",
       "      <td>38.6</td>\n",
       "    </tr>\n",
       "    <tr>\n",
       "      <th>3</th>\n",
       "      <td>2008</td>\n",
       "      <td>2-room</td>\n",
       "      <td>Below 15</td>\n",
       "      <td>12.1</td>\n",
       "    </tr>\n",
       "    <tr>\n",
       "      <th>4</th>\n",
       "      <td>2008</td>\n",
       "      <td>2-room</td>\n",
       "      <td>15-64</td>\n",
       "      <td>65.0</td>\n",
       "    </tr>\n",
       "  </tbody>\n",
       "</table>\n",
       "</div>"
      ],
      "text/plain": [
       "   shs_year flat_type   age_group  percentage\n",
       "0      2008    1-room    Below 15         4.8\n",
       "1      2008    1-room       15-64        56.6\n",
       "2      2008    1-room  65 & above        38.6\n",
       "3      2008    2-room    Below 15        12.1\n",
       "4      2008    2-room       15-64        65.0"
      ]
     },
     "execution_count": 30,
     "metadata": {},
     "output_type": "execute_result"
    }
   ],
   "source": [
    "path = 'C:/Users/stayh/Documents/Jupyter files/HDB project files'\n",
    "\n",
    "hdb_resident = pd.read_csv(path + '/age-of-hdb-resident-population-by-flat-type.csv')\n",
    "hdb_resident=pd.DataFrame(hdb_resident)\n",
    "hdb_resident.head()"
   ]
  },
  {
   "cell_type": "markdown",
   "id": "7c8074c2",
   "metadata": {},
   "source": [
    "It will be more useful to obtain the HDB resident population in numerical figures, rather than percentage values. So I merged the datasets containing the total HDB resident population and the percentage of HDB residents across the different <mark> flat types </mark> and <mark>age groups</mark>. "
   ]
  },
  {
   "cell_type": "code",
   "execution_count": 31,
   "id": "dc4f31d9",
   "metadata": {},
   "outputs": [
    {
     "data": {
      "text/html": [
       "<div>\n",
       "<style scoped>\n",
       "    .dataframe tbody tr th:only-of-type {\n",
       "        vertical-align: middle;\n",
       "    }\n",
       "\n",
       "    .dataframe tbody tr th {\n",
       "        vertical-align: top;\n",
       "    }\n",
       "\n",
       "    .dataframe thead th {\n",
       "        text-align: right;\n",
       "    }\n",
       "</style>\n",
       "<table border=\"1\" class=\"dataframe\">\n",
       "  <thead>\n",
       "    <tr style=\"text-align: right;\">\n",
       "      <th></th>\n",
       "      <th>shs_year</th>\n",
       "      <th>flat_type</th>\n",
       "      <th>number</th>\n",
       "    </tr>\n",
       "  </thead>\n",
       "  <tbody>\n",
       "    <tr>\n",
       "      <th>0</th>\n",
       "      <td>2008</td>\n",
       "      <td>1-room</td>\n",
       "      <td>33000</td>\n",
       "    </tr>\n",
       "    <tr>\n",
       "      <th>1</th>\n",
       "      <td>2008</td>\n",
       "      <td>2-room</td>\n",
       "      <td>57000</td>\n",
       "    </tr>\n",
       "    <tr>\n",
       "      <th>2</th>\n",
       "      <td>2008</td>\n",
       "      <td>3-room</td>\n",
       "      <td>498000</td>\n",
       "    </tr>\n",
       "    <tr>\n",
       "      <th>3</th>\n",
       "      <td>2008</td>\n",
       "      <td>4-room</td>\n",
       "      <td>988000</td>\n",
       "    </tr>\n",
       "    <tr>\n",
       "      <th>4</th>\n",
       "      <td>2008</td>\n",
       "      <td>5-room</td>\n",
       "      <td>615000</td>\n",
       "    </tr>\n",
       "  </tbody>\n",
       "</table>\n",
       "</div>"
      ],
      "text/plain": [
       "   shs_year flat_type  number\n",
       "0      2008    1-room   33000\n",
       "1      2008    2-room   57000\n",
       "2      2008    3-room  498000\n",
       "3      2008    4-room  988000\n",
       "4      2008    5-room  615000"
      ]
     },
     "execution_count": 31,
     "metadata": {},
     "output_type": "execute_result"
    }
   ],
   "source": [
    "hdb_popln = pd.read_csv(path + '/hdb-resident-population-aged-15-years-and-above-by-flat-type.csv')\n",
    "hdb_popln=pd.DataFrame(hdb_popln)\n",
    "hdb_popln.head() "
   ]
  },
  {
   "cell_type": "code",
   "execution_count": 32,
   "id": "f4ee5323",
   "metadata": {},
   "outputs": [
    {
     "name": "stderr",
     "output_type": "stream",
     "text": [
      "C:\\Users\\stayh\\AppData\\Local\\Temp\\ipykernel_560\\2427853321.py:1: FutureWarning: The default value of numeric_only in DataFrameGroupBy.sum is deprecated. In a future version, numeric_only will default to False. Either specify numeric_only or select only columns which should be valid for the function.\n",
      "  hdb_popln_total = hdb_popln.groupby ('shs_year').sum().reset_index()\n"
     ]
    },
    {
     "data": {
      "text/html": [
       "<div>\n",
       "<style scoped>\n",
       "    .dataframe tbody tr th:only-of-type {\n",
       "        vertical-align: middle;\n",
       "    }\n",
       "\n",
       "    .dataframe tbody tr th {\n",
       "        vertical-align: top;\n",
       "    }\n",
       "\n",
       "    .dataframe thead th {\n",
       "        text-align: right;\n",
       "    }\n",
       "</style>\n",
       "<table border=\"1\" class=\"dataframe\">\n",
       "  <thead>\n",
       "    <tr style=\"text-align: right;\">\n",
       "      <th></th>\n",
       "      <th>shs_year</th>\n",
       "      <th>number</th>\n",
       "    </tr>\n",
       "  </thead>\n",
       "  <tbody>\n",
       "    <tr>\n",
       "      <th>0</th>\n",
       "      <td>2008</td>\n",
       "      <td>2402000</td>\n",
       "    </tr>\n",
       "    <tr>\n",
       "      <th>1</th>\n",
       "      <td>2013</td>\n",
       "      <td>2543000</td>\n",
       "    </tr>\n",
       "    <tr>\n",
       "      <th>2</th>\n",
       "      <td>2018</td>\n",
       "      <td>2602000</td>\n",
       "    </tr>\n",
       "  </tbody>\n",
       "</table>\n",
       "</div>"
      ],
      "text/plain": [
       "   shs_year   number\n",
       "0      2008  2402000\n",
       "1      2013  2543000\n",
       "2      2018  2602000"
      ]
     },
     "execution_count": 32,
     "metadata": {},
     "output_type": "execute_result"
    }
   ],
   "source": [
    "hdb_popln_total = hdb_popln.groupby ('shs_year').sum().reset_index()\n",
    "hdb_popln_total"
   ]
  },
  {
   "cell_type": "code",
   "execution_count": 33,
   "id": "36cc984b",
   "metadata": {},
   "outputs": [
    {
     "data": {
      "text/html": [
       "<div>\n",
       "<style scoped>\n",
       "    .dataframe tbody tr th:only-of-type {\n",
       "        vertical-align: middle;\n",
       "    }\n",
       "\n",
       "    .dataframe tbody tr th {\n",
       "        vertical-align: top;\n",
       "    }\n",
       "\n",
       "    .dataframe thead th {\n",
       "        text-align: right;\n",
       "    }\n",
       "</style>\n",
       "<table border=\"1\" class=\"dataframe\">\n",
       "  <thead>\n",
       "    <tr style=\"text-align: right;\">\n",
       "      <th></th>\n",
       "      <th>shs_year</th>\n",
       "      <th>flat_type</th>\n",
       "      <th>age_group</th>\n",
       "      <th>percentage</th>\n",
       "      <th>number</th>\n",
       "    </tr>\n",
       "  </thead>\n",
       "  <tbody>\n",
       "    <tr>\n",
       "      <th>0</th>\n",
       "      <td>2008</td>\n",
       "      <td>1-room</td>\n",
       "      <td>Below 15</td>\n",
       "      <td>4.8</td>\n",
       "      <td>33000.0</td>\n",
       "    </tr>\n",
       "    <tr>\n",
       "      <th>1</th>\n",
       "      <td>2008</td>\n",
       "      <td>1-room</td>\n",
       "      <td>15-64</td>\n",
       "      <td>56.6</td>\n",
       "      <td>33000.0</td>\n",
       "    </tr>\n",
       "    <tr>\n",
       "      <th>2</th>\n",
       "      <td>2008</td>\n",
       "      <td>1-room</td>\n",
       "      <td>65 &amp; above</td>\n",
       "      <td>38.6</td>\n",
       "      <td>33000.0</td>\n",
       "    </tr>\n",
       "    <tr>\n",
       "      <th>3</th>\n",
       "      <td>2008</td>\n",
       "      <td>2-room</td>\n",
       "      <td>Below 15</td>\n",
       "      <td>12.1</td>\n",
       "      <td>57000.0</td>\n",
       "    </tr>\n",
       "    <tr>\n",
       "      <th>4</th>\n",
       "      <td>2008</td>\n",
       "      <td>2-room</td>\n",
       "      <td>15-64</td>\n",
       "      <td>65.0</td>\n",
       "      <td>57000.0</td>\n",
       "    </tr>\n",
       "  </tbody>\n",
       "</table>\n",
       "</div>"
      ],
      "text/plain": [
       "   shs_year flat_type   age_group  percentage   number\n",
       "0      2008    1-room    Below 15         4.8  33000.0\n",
       "1      2008    1-room       15-64        56.6  33000.0\n",
       "2      2008    1-room  65 & above        38.6  33000.0\n",
       "3      2008    2-room    Below 15        12.1  57000.0\n",
       "4      2008    2-room       15-64        65.0  57000.0"
      ]
     },
     "execution_count": 33,
     "metadata": {},
     "output_type": "execute_result"
    }
   ],
   "source": [
    "hdb_resident_popln = pd.merge (hdb_resident,hdb_popln, how = 'left', on = ['shs_year','flat_type'])\n",
    "hdb_resident_popln.head()"
   ]
  },
  {
   "cell_type": "code",
   "execution_count": 34,
   "id": "bcdb5907",
   "metadata": {},
   "outputs": [
    {
     "data": {
      "text/html": [
       "<div>\n",
       "<style scoped>\n",
       "    .dataframe tbody tr th:only-of-type {\n",
       "        vertical-align: middle;\n",
       "    }\n",
       "\n",
       "    .dataframe tbody tr th {\n",
       "        vertical-align: top;\n",
       "    }\n",
       "\n",
       "    .dataframe thead th {\n",
       "        text-align: right;\n",
       "    }\n",
       "</style>\n",
       "<table border=\"1\" class=\"dataframe\">\n",
       "  <thead>\n",
       "    <tr style=\"text-align: right;\">\n",
       "      <th></th>\n",
       "      <th>year</th>\n",
       "      <th>flat_type</th>\n",
       "      <th>age_group</th>\n",
       "      <th>value</th>\n",
       "    </tr>\n",
       "  </thead>\n",
       "  <tbody>\n",
       "    <tr>\n",
       "      <th>0</th>\n",
       "      <td>2008</td>\n",
       "      <td>1-room</td>\n",
       "      <td>Below 15</td>\n",
       "      <td>1584.0</td>\n",
       "    </tr>\n",
       "    <tr>\n",
       "      <th>1</th>\n",
       "      <td>2008</td>\n",
       "      <td>1-room</td>\n",
       "      <td>15-64</td>\n",
       "      <td>18678.0</td>\n",
       "    </tr>\n",
       "    <tr>\n",
       "      <th>2</th>\n",
       "      <td>2008</td>\n",
       "      <td>1-room</td>\n",
       "      <td>65 &amp; above</td>\n",
       "      <td>12738.0</td>\n",
       "    </tr>\n",
       "    <tr>\n",
       "      <th>3</th>\n",
       "      <td>2008</td>\n",
       "      <td>2-room</td>\n",
       "      <td>Below 15</td>\n",
       "      <td>6897.0</td>\n",
       "    </tr>\n",
       "    <tr>\n",
       "      <th>4</th>\n",
       "      <td>2008</td>\n",
       "      <td>2-room</td>\n",
       "      <td>15-64</td>\n",
       "      <td>37050.0</td>\n",
       "    </tr>\n",
       "  </tbody>\n",
       "</table>\n",
       "</div>"
      ],
      "text/plain": [
       "   year flat_type   age_group    value\n",
       "0  2008    1-room    Below 15   1584.0\n",
       "1  2008    1-room       15-64  18678.0\n",
       "2  2008    1-room  65 & above  12738.0\n",
       "3  2008    2-room    Below 15   6897.0\n",
       "4  2008    2-room       15-64  37050.0"
      ]
     },
     "execution_count": 34,
     "metadata": {},
     "output_type": "execute_result"
    }
   ],
   "source": [
    "hdb_resident_popln['value'] = hdb_resident_popln.percentage/100 * hdb_resident_popln.number\n",
    "hdb_resident_popln = hdb_resident_popln.drop(['percentage', 'number'], axis=1)\n",
    "hdb_resident_popln=hdb_resident_popln.rename(columns = {'shs_year':'year'})\n",
    "hdb_resident_popln.head()"
   ]
  },
  {
   "cell_type": "code",
   "execution_count": 37,
   "id": "e94e987b",
   "metadata": {},
   "outputs": [
    {
     "data": {
      "text/html": [
       "<div>\n",
       "<style scoped>\n",
       "    .dataframe tbody tr th:only-of-type {\n",
       "        vertical-align: middle;\n",
       "    }\n",
       "\n",
       "    .dataframe tbody tr th {\n",
       "        vertical-align: top;\n",
       "    }\n",
       "\n",
       "    .dataframe thead th {\n",
       "        text-align: right;\n",
       "    }\n",
       "</style>\n",
       "<table border=\"1\" class=\"dataframe\">\n",
       "  <thead>\n",
       "    <tr style=\"text-align: right;\">\n",
       "      <th></th>\n",
       "      <th>year</th>\n",
       "      <th>level_1</th>\n",
       "      <th>level_2</th>\n",
       "      <th>value</th>\n",
       "    </tr>\n",
       "  </thead>\n",
       "  <tbody>\n",
       "    <tr>\n",
       "      <th>0</th>\n",
       "      <td>1957</td>\n",
       "      <td>Total Residents</td>\n",
       "      <td>0  -  4 Years</td>\n",
       "      <td>264727</td>\n",
       "    </tr>\n",
       "    <tr>\n",
       "      <th>1</th>\n",
       "      <td>1957</td>\n",
       "      <td>Total Residents</td>\n",
       "      <td>5  -  9 Years</td>\n",
       "      <td>218097</td>\n",
       "    </tr>\n",
       "    <tr>\n",
       "      <th>2</th>\n",
       "      <td>1957</td>\n",
       "      <td>Total Residents</td>\n",
       "      <td>10 - 14 Years</td>\n",
       "      <td>136280</td>\n",
       "    </tr>\n",
       "    <tr>\n",
       "      <th>3</th>\n",
       "      <td>1957</td>\n",
       "      <td>Total Residents</td>\n",
       "      <td>15 - 19 Years</td>\n",
       "      <td>135679</td>\n",
       "    </tr>\n",
       "    <tr>\n",
       "      <th>4</th>\n",
       "      <td>1957</td>\n",
       "      <td>Total Residents</td>\n",
       "      <td>20 - 24 Years</td>\n",
       "      <td>119266</td>\n",
       "    </tr>\n",
       "  </tbody>\n",
       "</table>\n",
       "</div>"
      ],
      "text/plain": [
       "   year          level_1        level_2   value\n",
       "0  1957  Total Residents  0  -  4 Years  264727\n",
       "1  1957  Total Residents  5  -  9 Years  218097\n",
       "2  1957  Total Residents  10 - 14 Years  136280\n",
       "3  1957  Total Residents  15 - 19 Years  135679\n",
       "4  1957  Total Residents  20 - 24 Years  119266"
      ]
     },
     "execution_count": 37,
     "metadata": {},
     "output_type": "execute_result"
    }
   ],
   "source": [
    "sg_resident = pd.read_csv(path + '/singapore-residents-by-ethnic-group-and-sex-end-june-annual.csv')\n",
    "sg_resident=pd.DataFrame(sg_resident)\n",
    "sg_resident.head() "
   ]
  },
  {
   "cell_type": "code",
   "execution_count": 38,
   "id": "4bb10171",
   "metadata": {},
   "outputs": [
    {
     "data": {
      "text/html": [
       "<div>\n",
       "<style scoped>\n",
       "    .dataframe tbody tr th:only-of-type {\n",
       "        vertical-align: middle;\n",
       "    }\n",
       "\n",
       "    .dataframe tbody tr th {\n",
       "        vertical-align: top;\n",
       "    }\n",
       "\n",
       "    .dataframe thead th {\n",
       "        text-align: right;\n",
       "    }\n",
       "</style>\n",
       "<table border=\"1\" class=\"dataframe\">\n",
       "  <thead>\n",
       "    <tr style=\"text-align: right;\">\n",
       "      <th></th>\n",
       "      <th>year</th>\n",
       "      <th>level_1</th>\n",
       "      <th>level_2</th>\n",
       "      <th>value</th>\n",
       "    </tr>\n",
       "  </thead>\n",
       "  <tbody>\n",
       "    <tr>\n",
       "      <th>0</th>\n",
       "      <td>2008</td>\n",
       "      <td>Total Residents</td>\n",
       "      <td>0  -  4 Years</td>\n",
       "      <td>193889</td>\n",
       "    </tr>\n",
       "    <tr>\n",
       "      <th>1</th>\n",
       "      <td>2008</td>\n",
       "      <td>Total Residents</td>\n",
       "      <td>5  -  9 Years</td>\n",
       "      <td>223622</td>\n",
       "    </tr>\n",
       "    <tr>\n",
       "      <th>2</th>\n",
       "      <td>2008</td>\n",
       "      <td>Total Residents</td>\n",
       "      <td>10 - 14 Years</td>\n",
       "      <td>253796</td>\n",
       "    </tr>\n",
       "    <tr>\n",
       "      <th>3</th>\n",
       "      <td>2008</td>\n",
       "      <td>Total Residents</td>\n",
       "      <td>15 - 19 Years</td>\n",
       "      <td>262856</td>\n",
       "    </tr>\n",
       "    <tr>\n",
       "      <th>4</th>\n",
       "      <td>2008</td>\n",
       "      <td>Total Residents</td>\n",
       "      <td>20 - 24 Years</td>\n",
       "      <td>225385</td>\n",
       "    </tr>\n",
       "  </tbody>\n",
       "</table>\n",
       "</div>"
      ],
      "text/plain": [
       "   year          level_1        level_2   value\n",
       "0  2008  Total Residents  0  -  4 Years  193889\n",
       "1  2008  Total Residents  5  -  9 Years  223622\n",
       "2  2008  Total Residents  10 - 14 Years  253796\n",
       "3  2008  Total Residents  15 - 19 Years  262856\n",
       "4  2008  Total Residents  20 - 24 Years  225385"
      ]
     },
     "execution_count": 38,
     "metadata": {},
     "output_type": "execute_result"
    }
   ],
   "source": [
    "sg_resident = sg_resident[sg_resident['level_1']=='Total Residents']\n",
    "sg_resident=sg_resident[(sg_resident['year']==2008)|(sg_resident['year']==2013)|(sg_resident['year']==2018)]\n",
    "sg_resident['value'] = sg_resident['value'].astype(int) \n",
    "sg_resident = sg_resident.reset_index(drop=True)\n",
    "\n",
    "sg_resident.head()"
   ]
  },
  {
   "cell_type": "code",
   "execution_count": 39,
   "id": "01b20325",
   "metadata": {},
   "outputs": [
    {
     "name": "stderr",
     "output_type": "stream",
     "text": [
      "C:\\Users\\stayh\\AppData\\Local\\Temp\\ipykernel_560\\3068941216.py:1: FutureWarning: The default value of numeric_only in DataFrameGroupBy.sum is deprecated. In a future version, numeric_only will default to False. Either specify numeric_only or select only columns which should be valid for the function.\n",
      "  sg_resident_total = sg_resident.groupby ('year').sum().reset_index()\n"
     ]
    },
    {
     "data": {
      "text/html": [
       "<div>\n",
       "<style scoped>\n",
       "    .dataframe tbody tr th:only-of-type {\n",
       "        vertical-align: middle;\n",
       "    }\n",
       "\n",
       "    .dataframe tbody tr th {\n",
       "        vertical-align: top;\n",
       "    }\n",
       "\n",
       "    .dataframe thead th {\n",
       "        text-align: right;\n",
       "    }\n",
       "</style>\n",
       "<table border=\"1\" class=\"dataframe\">\n",
       "  <thead>\n",
       "    <tr style=\"text-align: right;\">\n",
       "      <th></th>\n",
       "      <th>year</th>\n",
       "      <th>value</th>\n",
       "    </tr>\n",
       "  </thead>\n",
       "  <tbody>\n",
       "    <tr>\n",
       "      <th>0</th>\n",
       "      <td>2008</td>\n",
       "      <td>4365064</td>\n",
       "    </tr>\n",
       "    <tr>\n",
       "      <th>1</th>\n",
       "      <td>2013</td>\n",
       "      <td>4778993</td>\n",
       "    </tr>\n",
       "    <tr>\n",
       "      <th>2</th>\n",
       "      <td>2018</td>\n",
       "      <td>5234754</td>\n",
       "    </tr>\n",
       "  </tbody>\n",
       "</table>\n",
       "</div>"
      ],
      "text/plain": [
       "   year    value\n",
       "0  2008  4365064\n",
       "1  2013  4778993\n",
       "2  2018  5234754"
      ]
     },
     "execution_count": 39,
     "metadata": {},
     "output_type": "execute_result"
    }
   ],
   "source": [
    "sg_resident_total = sg_resident.groupby ('year').sum().reset_index()\n",
    "sg_resident_total"
   ]
  },
  {
   "cell_type": "markdown",
   "id": "4f560f74",
   "metadata": {},
   "source": [
    "After cleaning the data up, we can then perform basic exploratory data analysis to examine the trend in HDB resident population across the different <mark>types of flats</mark>, <mark>age groups</mark> and <mark>years</mark>."
   ]
  },
  {
   "cell_type": "code",
   "execution_count": 28,
   "id": "e017975c",
   "metadata": {},
   "outputs": [
    {
     "data": {
      "text/plain": [
       "0    55.027830\n",
       "1    53.212047\n",
       "2    49.706252\n",
       "dtype: float64"
      ]
     },
     "execution_count": 28,
     "metadata": {},
     "output_type": "execute_result"
    }
   ],
   "source": [
    "proportion = hdb_popln_total['number']/sg_resident_total['value']*100\n",
    "proportion"
   ]
  },
  {
   "cell_type": "code",
   "execution_count": 53,
   "id": "83dc9b4e",
   "metadata": {},
   "outputs": [
    {
     "name": "stderr",
     "output_type": "stream",
     "text": [
      "C:\\Users\\stayh\\AppData\\Local\\Packages\\PythonSoftwareFoundation.Python.3.10_qbz5n2kfra8p0\\LocalCache\\local-packages\\Python310\\site-packages\\seaborn\\algorithms.py:98: RuntimeWarning: Mean of empty slice\n",
      "  boot_dist.append(f(*sample, **func_kwargs))\n",
      "C:\\Users\\stayh\\AppData\\Local\\Packages\\PythonSoftwareFoundation.Python.3.10_qbz5n2kfra8p0\\LocalCache\\local-packages\\Python310\\site-packages\\numpy\\lib\\nanfunctions.py:1556: RuntimeWarning: All-NaN slice encountered\n",
      "  return function_base._ureduce(a,\n",
      "C:\\Users\\stayh\\AppData\\Local\\Packages\\PythonSoftwareFoundation.Python.3.10_qbz5n2kfra8p0\\LocalCache\\local-packages\\Python310\\site-packages\\seaborn\\algorithms.py:98: RuntimeWarning: Mean of empty slice\n",
      "  boot_dist.append(f(*sample, **func_kwargs))\n",
      "C:\\Users\\stayh\\AppData\\Local\\Packages\\PythonSoftwareFoundation.Python.3.10_qbz5n2kfra8p0\\LocalCache\\local-packages\\Python310\\site-packages\\numpy\\lib\\nanfunctions.py:1556: RuntimeWarning: All-NaN slice encountered\n",
      "  return function_base._ureduce(a,\n",
      "C:\\Users\\stayh\\AppData\\Local\\Packages\\PythonSoftwareFoundation.Python.3.10_qbz5n2kfra8p0\\LocalCache\\local-packages\\Python310\\site-packages\\seaborn\\algorithms.py:98: RuntimeWarning: Mean of empty slice\n",
      "  boot_dist.append(f(*sample, **func_kwargs))\n",
      "C:\\Users\\stayh\\AppData\\Local\\Packages\\PythonSoftwareFoundation.Python.3.10_qbz5n2kfra8p0\\LocalCache\\local-packages\\Python310\\site-packages\\numpy\\lib\\nanfunctions.py:1556: RuntimeWarning: All-NaN slice encountered\n",
      "  return function_base._ureduce(a,\n"
     ]
    },
    {
     "data": {
      "image/png": "[encoded data removed]",
      "text/plain": [
       "<Figure size 640x480 with 1 Axes>"
      ]
     },
     "metadata": {},
     "output_type": "display_data"
    }
   ],
   "source": [
    "ax = sns.barplot(data = hdb_resident_popln, x='flat_type', y = 'value', hue = 'year',palette='pastel',saturation =0.2)\n",
    "ax.set(xlabel='Types of Flat', ylabel='Population of HDB residents', title='HDB resident population per Flat Types across Years')\n",
    "plt.show(ax)"
   ]
  },
  {
   "cell_type": "markdown",
   "id": "2ae8eae6",
   "metadata": {},
   "source": [
    "Here, we noticed a few trends: \n",
    "- The number of Singapore residents living in Housing Board flats has dipped across the years, with under 50% of the SG resident population staying in HDBs today. \n",
    "- Most HDB residents choose to stay in mid-sized (4- and 5-room) flats. \n",
    "- Population of HDB residents across smaller (1- and 2-room) flats has increased steadily across the years. Notably, the population for the 3-, 4- and executive room flats have decreased. \n",
    "\n",
    "This may mean that space is a factor for consideration in deciding the types of HDB flats to live in, with a 4-room and 5-room flat boasting an average floor area of 90 sqm and 110 sqm respectively (as compared to an average floor area of 65 sqm for 3-room flat). However, the data is inconclusive, given that the Housing Development Board tends to release more 4- and 5-room flat types to encourage bigger family nuclei and discourage too much population fragmentation. \n",
    "\n",
    "Yet with the associated decrease in HDB resident population, especially for mid-sized to bigger flat types, it could indicate more residents upgrading to private property that were launched between 2013 and 2018. It could also point to the fact that fewer extended families living together in the same flat.\n",
    "\n",
    "The increase in population of HDB residents across smaller flats could be due to a relaxation in the Housing Development Board's rules, which allowed eligible singles to buy two-room Build-To-Order flats in non-mature estates from 2013, as well as Singapore's ageing population. However, it may also indicate a trend towards smaller household sizes and single households, for personal space and privacy."
   ]
  },
  {
   "cell_type": "code",
   "execution_count": 54,
   "id": "e9eaea22",
   "metadata": {},
   "outputs": [
    {
     "data": {
      "image/png": "[encoded data removed]",
      "text/plain": [
       "<Figure size 640x480 with 1 Axes>"
      ]
     },
     "metadata": {},
     "output_type": "display_data"
    }
   ],
   "source": [
    "ax1=sns.barplot(data = hdb_resident_popln, x='age_group', y = 'value', hue = 'year',palette='pastel',saturation =0.2)\n",
    "ax1.set(xlabel='Age Group', ylabel='Population of HDB residents', title='HDB resident population per Age Group across Years')\n",
    "plt.show(ax1)"
   ]
  },
  {
   "cell_type": "markdown",
   "id": "874ad88b",
   "metadata": {},
   "source": [
    "Trending the data across the age group over the years reveal several interesting phenomenon: \n",
    "- The HDB resident population for aged <mark> 15 and above </mark> has increased steadily over the years, with a stark jump noted between 2013 and 2018 for the group aged <mark> 65 and above</mark>. \n",
    "- The HDB resident population for the group <mark>below 15</mark> has decreased. \n",
    "\n",
    "This shows that the HDB resident population is greying. Citing reasons such as comfort and a sense of attachment to the flat, more and more elderly households may desire to continue living in their existing flat. \n",
    "\n",
    "From a social policy standpoint, the Government should consider expanding more assisted living options, which will integrate housing for seniors with care services. More elderly-friendly upgrades to existing HDB flats can help the elderly age in place too. "
   ]
  },
  {
   "cell_type": "markdown",
   "id": "ce7ab388",
   "metadata": {},
   "source": [
    "Next, to compare the HDB resident population against the Singapore resident population across the same age groups, I created 3 clusters within the <mark>sg_resident</mark> dataset for aged <mark>below 15</mark>, from <mark>15 to 64</mark> and <mark>65 & above</mark>, and assigned the relevant headings to each cluster."
   ]
  },
  {
   "cell_type": "code",
   "execution_count": 14,
   "id": "a5411bfe",
   "metadata": {},
   "outputs": [
    {
     "data": {
      "text/html": [
       "<div>\n",
       "<style scoped>\n",
       "    .dataframe tbody tr th:only-of-type {\n",
       "        vertical-align: middle;\n",
       "    }\n",
       "\n",
       "    .dataframe tbody tr th {\n",
       "        vertical-align: top;\n",
       "    }\n",
       "\n",
       "    .dataframe thead th {\n",
       "        text-align: right;\n",
       "    }\n",
       "</style>\n",
       "<table border=\"1\" class=\"dataframe\">\n",
       "  <thead>\n",
       "    <tr style=\"text-align: right;\">\n",
       "      <th></th>\n",
       "      <th>year</th>\n",
       "      <th>value</th>\n",
       "    </tr>\n",
       "  </thead>\n",
       "  <tbody>\n",
       "    <tr>\n",
       "      <th>0</th>\n",
       "      <td>2008</td>\n",
       "      <td>671307</td>\n",
       "    </tr>\n",
       "    <tr>\n",
       "      <th>1</th>\n",
       "      <td>2013</td>\n",
       "      <td>615243</td>\n",
       "    </tr>\n",
       "    <tr>\n",
       "      <th>2</th>\n",
       "      <td>2018</td>\n",
       "      <td>591124</td>\n",
       "    </tr>\n",
       "  </tbody>\n",
       "</table>\n",
       "</div>"
      ],
      "text/plain": [
       "   year   value\n",
       "0  2008  671307\n",
       "1  2013  615243\n",
       "2  2018  591124"
      ]
     },
     "execution_count": 14,
     "metadata": {},
     "output_type": "execute_result"
    }
   ],
   "source": [
    "sg_resident_below15 = sg_resident.loc[(sg_resident['level_2'] == '0  -  4 Years')|(sg_resident['level_2'] == '5  -  9 Years')|(sg_resident['level_2'] == '10 - 14 Years'),['year','value']]\n",
    "sg_resident_15to64 = sg_resident.loc[(sg_resident['level_2'] == '15 - 19 Years')|(sg_resident['level_2'] == '20 - 24 Years')|(sg_resident['level_2'] == '25 - 29 Years')|(sg_resident['level_2'] == '30 - 34 Years')|(sg_resident['level_2'] == '35 - 39 Years')|(sg_resident['level_2'] == '40 - 44 Years')|(sg_resident['level_2'] == '45 - 49 Years')|(sg_resident['level_2'] == '50 - 54 Years')|(sg_resident['level_2'] == '55 - 59 Years')|(sg_resident['level_2'] == '60 - 64 Years'),['year','value']]\n",
    "sg_resident_above65=sg_resident.loc[(sg_resident['level_2'] == '65 Years & Over'),['year','value']]\n",
    "\n",
    "sg_resident_below15 = sg_resident_below15.groupby ('year').sum().reset_index()\n",
    "sg_resident_15to64 = sg_resident_15to64.groupby ('year').sum().reset_index()\n",
    "sg_resident_above65 = sg_resident_above65.groupby ('year').sum().reset_index()\n",
    "\n",
    "sg_resident_below15"
   ]
  },
  {
   "cell_type": "code",
   "execution_count": 15,
   "id": "84b6bdba",
   "metadata": {},
   "outputs": [
    {
     "data": {
      "text/html": [
       "<div>\n",
       "<style scoped>\n",
       "    .dataframe tbody tr th:only-of-type {\n",
       "        vertical-align: middle;\n",
       "    }\n",
       "\n",
       "    .dataframe tbody tr th {\n",
       "        vertical-align: top;\n",
       "    }\n",
       "\n",
       "    .dataframe thead th {\n",
       "        text-align: right;\n",
       "    }\n",
       "</style>\n",
       "<table border=\"1\" class=\"dataframe\">\n",
       "  <thead>\n",
       "    <tr style=\"text-align: right;\">\n",
       "      <th></th>\n",
       "      <th>year</th>\n",
       "      <th>value</th>\n",
       "      <th>age_group</th>\n",
       "    </tr>\n",
       "  </thead>\n",
       "  <tbody>\n",
       "    <tr>\n",
       "      <th>0</th>\n",
       "      <td>2008</td>\n",
       "      <td>671307</td>\n",
       "      <td>Below 15</td>\n",
       "    </tr>\n",
       "    <tr>\n",
       "      <th>1</th>\n",
       "      <td>2013</td>\n",
       "      <td>615243</td>\n",
       "      <td>Below 15</td>\n",
       "    </tr>\n",
       "    <tr>\n",
       "      <th>2</th>\n",
       "      <td>2018</td>\n",
       "      <td>591124</td>\n",
       "      <td>Below 15</td>\n",
       "    </tr>\n",
       "    <tr>\n",
       "      <th>3</th>\n",
       "      <td>2008</td>\n",
       "      <td>2655562</td>\n",
       "      <td>15-64</td>\n",
       "    </tr>\n",
       "    <tr>\n",
       "      <th>4</th>\n",
       "      <td>2013</td>\n",
       "      <td>2825071</td>\n",
       "      <td>15-64</td>\n",
       "    </tr>\n",
       "    <tr>\n",
       "      <th>5</th>\n",
       "      <td>2018</td>\n",
       "      <td>2855305</td>\n",
       "      <td>15-64</td>\n",
       "    </tr>\n",
       "    <tr>\n",
       "      <th>6</th>\n",
       "      <td>2008</td>\n",
       "      <td>315790</td>\n",
       "      <td>65 &amp; above</td>\n",
       "    </tr>\n",
       "    <tr>\n",
       "      <th>7</th>\n",
       "      <td>2013</td>\n",
       "      <td>404437</td>\n",
       "      <td>65 &amp; above</td>\n",
       "    </tr>\n",
       "    <tr>\n",
       "      <th>8</th>\n",
       "      <td>2018</td>\n",
       "      <td>547854</td>\n",
       "      <td>65 &amp; above</td>\n",
       "    </tr>\n",
       "  </tbody>\n",
       "</table>\n",
       "</div>"
      ],
      "text/plain": [
       "   year    value   age_group\n",
       "0  2008   671307    Below 15\n",
       "1  2013   615243    Below 15\n",
       "2  2018   591124    Below 15\n",
       "3  2008  2655562       15-64\n",
       "4  2013  2825071       15-64\n",
       "5  2018  2855305       15-64\n",
       "6  2008   315790  65 & above\n",
       "7  2013   404437  65 & above\n",
       "8  2018   547854  65 & above"
      ]
     },
     "execution_count": 15,
     "metadata": {},
     "output_type": "execute_result"
    }
   ],
   "source": [
    "sg_resident_below15 ['age_group']= 'Below 15'\n",
    "sg_resident_15to64 ['age_group']= '15-64'\n",
    "sg_resident_above65 ['age_group'] = '65 & above'\n",
    "\n",
    "sg_resident_popln = pd.concat([sg_resident_below15,sg_resident_15to64,sg_resident_above65]).reset_index(drop=True)\n",
    "sg_resident_popln"
   ]
  },
  {
   "cell_type": "code",
   "execution_count": 43,
   "id": "e85389e1",
   "metadata": {},
   "outputs": [
    {
     "data": {
      "text/plain": [
       "[Text(0, 0.5, 'Population of SG residents')]"
      ]
     },
     "execution_count": 43,
     "metadata": {},
     "output_type": "execute_result"
    },
    {
     "data": {
      "image/png": "[encoded data removed]",
      "text/plain": [
       "<Figure size 1200x600 with 2 Axes>"
      ]
     },
     "metadata": {},
     "output_type": "display_data"
    }
   ],
   "source": [
    "matplotlib.rc_file_defaults()\n",
    "ax1 = sns.set_style(style=None, rc=None )\n",
    "fig, ax1 = plt.subplots(figsize=(12,6))\n",
    "sns.lineplot(data = hdb_resident_popln, x ='age_group', y='value', marker='o', sort = False, ax=ax1, hue = 'year',style = 'year', err_style=\"bars\") \n",
    "ax1.set(xlabel='Age Group', ylabel='Population of HDB residents')\n",
    "\n",
    "ax2 = ax1.twinx()\n",
    "sns.barplot(data = sg_resident_popln, x='age_group', y='value',alpha=0.5, ax=ax2,hue = 'year',palette='pastel',saturation =0.4).set (title='SG resident population VS HDB resident population per Age Group and Years')\n",
    "ax2.set(ylabel='Population of SG residents')"
   ]
  },
  {
   "cell_type": "markdown",
   "id": "bc7b8621",
   "metadata": {},
   "source": [
    "Here, we noticed several interesting trends: \n",
    "- The proportion of HDB residents in the SG resident population that is aged <mark>  65 and above </mark> has increased over the years.\n",
    "- The proportion of HDB residents in the SG resident population that is aged <mark> 15 to 64 </mark> has reduced between 2013 and 2018. \n",
    "There is no significant conclusive trend for those <mark> below 15 </mark>.\n",
    "\n",
    "This confirmed that there is now a decrease in younger SG residents (aged <mark> 15 to 64</mark>) who stay in HDBs, which can indicate an ageing population or a switch in preference away from public flats to private housing. On the other hand, HDB flats seemed to be a popular option when it came to accommodation in the silver years. \n",
    "\n",
    "From a socio-economic standpoint, it is important for the Government to further examine the issue of the decrease in younger Singaporean HDB residents. This is because it may indicate other trends like increase in younger single/LGBT households (who therefore cannot qualify for HDBs) or an increase in affluence leading to higher demand in private housing. \n",
    "\n",
    "The Government may also consider rolling out more __[assisted living HDB flats](https://www.straitstimes.com/singapore/housing/singapores-first-assisted-living-hdb-flats-for-seniors-to-launch-in-bukit-batok-in)__ to cater for more demand for HDB flats from the silver population. Their existing flats can then be relaunched to cater for other types of demand (e.g. smaller flat types for single households). "
   ]
  },
  {
   "cell_type": "markdown",
   "id": "b79f3c5e",
   "metadata": {},
   "source": [
    "In conclusion, this is a simple exercise that uses pandas, matplotlib and seaborn packages on three datasets. A key limitation is in the short time period in which the data was collected by the Housing Development Board (only 3 years) and more can be done to obtain a more holistic view of the public housing situation in Singapore."
   ]
  }
 ],
 "metadata": {
  "kernelspec": {
   "display_name": "Python 3 (ipykernel)",
   "language": "python",
   "name": "python3"
  },
  "language_info": {
   "codemirror_mode": {
    "name": "ipython",
    "version": 3
   },
   "file_extension": ".py",
   "mimetype": "text/x-python",
   "name": "python",
   "nbconvert_exporter": "python",
   "pygments_lexer": "ipython3",
   "version": "3.10.9"
  }
 },
 "nbformat": 4,
 "nbformat_minor": 5
}
